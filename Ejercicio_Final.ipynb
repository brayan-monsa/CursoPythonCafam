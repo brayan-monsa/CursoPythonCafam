{
  "nbformat": 4,
  "nbformat_minor": 0,
  "metadata": {
    "colab": {
      "provenance": []
    },
    "kernelspec": {
      "name": "python3",
      "display_name": "Python 3"
    },
    "language_info": {
      "name": "python"
    }
  },
  "cells": [
    {
      "cell_type": "code",
      "execution_count": null,
      "metadata": {
        "colab": {
          "base_uri": "https://localhost:8080/",
          "height": 807
        },
        "id": "LNdcaIDDZ11c",
        "outputId": "8d8c1650-0fd0-47aa-d8c7-a1f091d59bd5"
      },
      "outputs": [
        {
          "output_type": "stream",
          "name": "stdout",
          "text": [
            "Bienvenido al inventario\n",
            "Que quieres hacer, presiona 1 para incluir producto, 2 para actualizar cantidad o 3 para mostrar intentario: 1\n",
            "que producto quieres incluir: hilos\n",
            "incluye la cantidad para ese producto: 21\n",
            "Se incluyo la cantidad de 21 al producto hilos\n",
            "Bienvenido al inventario\n",
            "Que quieres hacer, presiona 1 para incluir producto, 2 para actualizar cantidad o 3 para mostrar intentario: 1\n",
            "que producto quieres incluir: yuca\n",
            "incluye la cantidad para ese producto: 7\n",
            "Se incluyo la cantidad de 7 al producto yuca\n",
            "Bienvenido al inventario\n",
            "Que quieres hacer, presiona 1 para incluir producto, 2 para actualizar cantidad o 3 para mostrar intentario: 1\n",
            "que producto quieres incluir: uvas\n",
            "incluye la cantidad para ese producto: 32\n",
            "Se incluyo la cantidad de 32 al producto uvas\n",
            "Bienvenido al inventario\n",
            "Que quieres hacer, presiona 1 para incluir producto, 2 para actualizar cantidad o 3 para mostrar intentario: 2\n",
            "que producto quieres actualizar: yuca\n",
            "Cual es la nueva cantidad: 12\n",
            "El producto yuca ha cambiado al numero de 12 cantidad\n",
            "Bienvenido al inventario\n",
            "Que quieres hacer, presiona 1 para incluir producto, 2 para actualizar cantidad o 3 para mostrar intentario: 3\n",
            "productohilos, Cantidad 21\n",
            "productoyuca, Cantidad 12\n",
            "productouvas, Cantidad 32\n",
            "Bienvenido al inventario\n"
          ]
        },
        {
          "output_type": "error",
          "ename": "KeyboardInterrupt",
          "evalue": "Interrupted by user",
          "traceback": [
            "\u001b[0;31m---------------------------------------------------------------------------\u001b[0m",
            "\u001b[0;31mKeyboardInterrupt\u001b[0m                         Traceback (most recent call last)",
            "\u001b[0;32m<ipython-input-22-9a0195efc12a>\u001b[0m in \u001b[0;36m<cell line: 4>\u001b[0;34m()\u001b[0m\n\u001b[1;32m      4\u001b[0m \u001b[0;32mwhile\u001b[0m \u001b[0;32mTrue\u001b[0m\u001b[0;34m:\u001b[0m\u001b[0;34m\u001b[0m\u001b[0;34m\u001b[0m\u001b[0m\n\u001b[1;32m      5\u001b[0m   \u001b[0mprint\u001b[0m\u001b[0;34m(\u001b[0m\u001b[0;34m\"Bienvenido al inventario\"\u001b[0m\u001b[0;34m)\u001b[0m\u001b[0;34m\u001b[0m\u001b[0;34m\u001b[0m\u001b[0m\n\u001b[0;32m----> 6\u001b[0;31m   \u001b[0mopciones\u001b[0m \u001b[0;34m=\u001b[0m \u001b[0mint\u001b[0m\u001b[0;34m(\u001b[0m\u001b[0minput\u001b[0m\u001b[0;34m(\u001b[0m\u001b[0;34m\"Que quieres hacer, presiona 1 para incluir producto, 2 para actualizar cantidad o 3 para mostrar intentario: \"\u001b[0m\u001b[0;34m)\u001b[0m\u001b[0;34m)\u001b[0m\u001b[0;34m\u001b[0m\u001b[0;34m\u001b[0m\u001b[0m\n\u001b[0m\u001b[1;32m      7\u001b[0m \u001b[0;34m\u001b[0m\u001b[0m\n\u001b[1;32m      8\u001b[0m   \u001b[0;32mif\u001b[0m \u001b[0mopciones\u001b[0m \u001b[0;34m==\u001b[0m \u001b[0;36m1\u001b[0m\u001b[0;34m:\u001b[0m\u001b[0;34m\u001b[0m\u001b[0;34m\u001b[0m\u001b[0m\n",
            "\u001b[0;32m/usr/local/lib/python3.10/dist-packages/ipykernel/kernelbase.py\u001b[0m in \u001b[0;36mraw_input\u001b[0;34m(self, prompt)\u001b[0m\n\u001b[1;32m    849\u001b[0m                 \u001b[0;34m\"raw_input was called, but this frontend does not support input requests.\"\u001b[0m\u001b[0;34m\u001b[0m\u001b[0;34m\u001b[0m\u001b[0m\n\u001b[1;32m    850\u001b[0m             )\n\u001b[0;32m--> 851\u001b[0;31m         return self._input_request(str(prompt),\n\u001b[0m\u001b[1;32m    852\u001b[0m             \u001b[0mself\u001b[0m\u001b[0;34m.\u001b[0m\u001b[0m_parent_ident\u001b[0m\u001b[0;34m,\u001b[0m\u001b[0;34m\u001b[0m\u001b[0;34m\u001b[0m\u001b[0m\n\u001b[1;32m    853\u001b[0m             \u001b[0mself\u001b[0m\u001b[0;34m.\u001b[0m\u001b[0m_parent_header\u001b[0m\u001b[0;34m,\u001b[0m\u001b[0;34m\u001b[0m\u001b[0;34m\u001b[0m\u001b[0m\n",
            "\u001b[0;32m/usr/local/lib/python3.10/dist-packages/ipykernel/kernelbase.py\u001b[0m in \u001b[0;36m_input_request\u001b[0;34m(self, prompt, ident, parent, password)\u001b[0m\n\u001b[1;32m    893\u001b[0m             \u001b[0;32mexcept\u001b[0m \u001b[0mKeyboardInterrupt\u001b[0m\u001b[0;34m:\u001b[0m\u001b[0;34m\u001b[0m\u001b[0;34m\u001b[0m\u001b[0m\n\u001b[1;32m    894\u001b[0m                 \u001b[0;31m# re-raise KeyboardInterrupt, to truncate traceback\u001b[0m\u001b[0;34m\u001b[0m\u001b[0;34m\u001b[0m\u001b[0m\n\u001b[0;32m--> 895\u001b[0;31m                 \u001b[0;32mraise\u001b[0m \u001b[0mKeyboardInterrupt\u001b[0m\u001b[0;34m(\u001b[0m\u001b[0;34m\"Interrupted by user\"\u001b[0m\u001b[0;34m)\u001b[0m \u001b[0;32mfrom\u001b[0m \u001b[0;32mNone\u001b[0m\u001b[0;34m\u001b[0m\u001b[0;34m\u001b[0m\u001b[0m\n\u001b[0m\u001b[1;32m    896\u001b[0m             \u001b[0;32mexcept\u001b[0m \u001b[0mException\u001b[0m \u001b[0;32mas\u001b[0m \u001b[0me\u001b[0m\u001b[0;34m:\u001b[0m\u001b[0;34m\u001b[0m\u001b[0;34m\u001b[0m\u001b[0m\n\u001b[1;32m    897\u001b[0m                 \u001b[0mself\u001b[0m\u001b[0;34m.\u001b[0m\u001b[0mlog\u001b[0m\u001b[0;34m.\u001b[0m\u001b[0mwarning\u001b[0m\u001b[0;34m(\u001b[0m\u001b[0;34m\"Invalid Message:\"\u001b[0m\u001b[0;34m,\u001b[0m \u001b[0mexc_info\u001b[0m\u001b[0;34m=\u001b[0m\u001b[0;32mTrue\u001b[0m\u001b[0;34m)\u001b[0m\u001b[0;34m\u001b[0m\u001b[0;34m\u001b[0m\u001b[0m\n",
            "\u001b[0;31mKeyboardInterrupt\u001b[0m: Interrupted by user"
          ]
        }
      ],
      "source": [
        "#lista para el inventario\n",
        "inventario = {}\n",
        "\n",
        "while True:\n",
        "  print(\"Bienvenido al inventario\")\n",
        "  opciones = int(input(\"Que quieres hacer, presiona 1 para incluir producto, 2 para actualizar cantidad o 3 para mostrar intentario: \"))\n",
        "\n",
        "  if opciones == 1:\n",
        "      incluir = input(\"que producto quieres incluir: \")\n",
        "      cantidad = int(input(\"incluye la cantidad para ese producto: \"))\n",
        "      inventario[incluir] = cantidad\n",
        "      print(f\"Se incluyo la cantidad de {cantidad} al producto {incluir}\")\n",
        "\n",
        "  elif opciones == 2:\n",
        "      actualizar = input(\"que producto quieres actualizar: \")\n",
        "      if actualizar in inventario:\n",
        "        nueva_cantidad = input(\"Cual es la nueva cantidad: \")\n",
        "        inventario[actualizar]=nueva_cantidad\n",
        "        print(f\"El producto {actualizar} ha cambiado al numero de {nueva_cantidad} cantidad\")\n",
        "  else:\n",
        "    for producto, cantidad in inventario.items():\n",
        "      print(f\"producto {producto}, Cantidad {cantidad}\")\n",
        "\n",
        "\n",
        "\n",
        "\n"
      ]
    }
  ]
}