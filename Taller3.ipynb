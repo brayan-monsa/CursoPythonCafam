{
  "nbformat": 4,
  "nbformat_minor": 0,
  "metadata": {
    "colab": {
      "provenance": []
    },
    "kernelspec": {
      "name": "python3",
      "display_name": "Python 3"
    },
    "language_info": {
      "name": "python"
    }
  },
  "cells": [
    {
      "cell_type": "code",
      "execution_count": null,
      "metadata": {
        "id": "1cm5BoMPN6xL"
      },
      "outputs": [],
      "source": []
    },
    {
      "cell_type": "markdown",
      "source": [
        "![images.png](data:image/png;base64,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)\n",
        "\n",
        "\n",
        "**TALLER 3**\n",
        "\n",
        "CURSO DE PYTHON\n",
        "\n",
        "DIRECCION DE EDUCACIÓN CONTINUA\n",
        "\n",
        "FUNDACION UNIVERSITARIA CAFAM\n",
        "\n",
        "DOCENTE: NICOLAS MOJICA GOMEZ\n",
        "\n",
        "ESTUDIANTE: **Brayan Monsalve Fontalvo**\n"
      ],
      "metadata": {
        "id": "1ycJFSQWN_C1"
      }
    },
    {
      "cell_type": "code",
      "source": [],
      "metadata": {
        "id": "WP6M0NVPOHjt"
      },
      "execution_count": null,
      "outputs": []
    },
    {
      "cell_type": "markdown",
      "source": [
        "Ejercicios"
      ],
      "metadata": {
        "id": "J52oCLCDcHse"
      }
    },
    {
      "cell_type": "markdown",
      "source": [
        "**Ejercicio 1:**\n",
        "\n",
        "Suma de Números Pares (Bucle for)\n",
        "\n",
        "**Descripción:**\n",
        "Escribe un programa que sume todos los números pares del 1 al 100 e imprima el resultado.\n",
        "\n",
        "**Instrucciones:**\n",
        "\n",
        "Utiliza un bucle for para recorrer los números del 1 al 100.\n",
        "Suma solo aquellos números que sean pares.\n",
        "Imprime la suma total."
      ],
      "metadata": {
        "id": "qHdLeYTwhnyN"
      }
    },
    {
      "cell_type": "code",
      "source": [
        "\n",
        "suma_numeros = 0\n",
        "for numero_pares in range(1,101):\n",
        "  if numero_pares % 2 == 0:\n",
        "    suma_numeros += numero_pares\n",
        "print(\"la suma de todos los pares es: \", suma_numeros)\n",
        "\n"
      ],
      "metadata": {
        "id": "n9wUzsn8cI5V",
        "colab": {
          "base_uri": "https://localhost:8080/"
        },
        "outputId": "dab5d253-87a8-4194-afae-2e686e8f8ed2"
      },
      "execution_count": 3,
      "outputs": [
        {
          "output_type": "stream",
          "name": "stdout",
          "text": [
            "la suma de todos los pares es:  2550\n"
          ]
        }
      ]
    },
    {
      "cell_type": "markdown",
      "source": [
        "**Ejercicio 2: Adivina el Número (Bucle while)**\n",
        "\n",
        "**Descripción:**\n",
        "\n",
        "Escribe un programa que permita al usuario adivinar un número secreto entre 1 y 10. El programa debe seguir pidiendo al usuario que adivine hasta que acierte.\n",
        "\n",
        "**Instrucciones:**\n",
        "\n",
        "Define un número secreto.\n",
        "\n",
        "Utiliza un bucle while para seguir solicitando adivinanzas al usuario hasta que acierte.\n",
        "\n",
        "Si el usuario adivina el número, imprime un mensaje de felicitación y termina el programa."
      ],
      "metadata": {
        "id": "tyDUUeCFkmvR"
      }
    },
    {
      "cell_type": "code",
      "source": [
        "numero = 7\n",
        "\n",
        "adivinar = None\n",
        "\n",
        "while adivinar != numero:\n",
        "  adivinar = int(input(\"ingresa tu numero: \"))\n",
        "  if adivinar == numero:\n",
        "    print(\"Numero acertado\")\n",
        "    break\n",
        "  else:\n",
        "    print(\"Numero no acertado\")"
      ],
      "metadata": {
        "id": "n6D1wHK2kmYs",
        "colab": {
          "base_uri": "https://localhost:8080/"
        },
        "outputId": "2b2a98f5-c53d-4f8f-9794-433f05c1653b"
      },
      "execution_count": 2,
      "outputs": [
        {
          "output_type": "stream",
          "name": "stdout",
          "text": [
            "ingresa tu numero: 5\n",
            "Numero no acertado\n",
            "ingresa tu numero: 8\n",
            "Numero no acertado\n",
            "ingresa tu numero: 7\n",
            "Numero acertado\n"
          ]
        }
      ]
    },
    {
      "cell_type": "markdown",
      "source": [
        "**Ejercicio 3: Tabla de Multiplicar (Bucle for y while)**\n",
        "\n",
        "**Descripción:**\n",
        "\n",
        "Escribe un programa que genere la tabla de multiplicar de un número ingresado por el usuario. El programa debe continuar pidiendo un número hasta que el usuario ingrese 0.\n",
        "\n",
        "**Instrucciones:**\n",
        "\n",
        "Utiliza un bucle while para pedir un número al usuario.\n",
        "\n",
        "Si el número es diferente de 0, usa un bucle for para imprimir la tabla de multiplicar de ese número.\n",
        "\n",
        "Si el usuario ingresa 0, termina el programa."
      ],
      "metadata": {
        "id": "_BEFlYAUlaP9"
      }
    },
    {
      "cell_type": "code",
      "source": [
        "\n",
        "while True:\n",
        "    numero = int(input(\"Ingresa un número para la tabla de multiplicar (o 0 para salir): \"))\n",
        "    if numero == 0:\n",
        "        print(\"Programa terminado.\")\n",
        "        break\n",
        "    print(f\"Tabla de multiplicar del {numero}:\")\n",
        "    for i in range(1, 11):\n",
        "        print(f\"{numero} x {i} = {numero * i}\")\n",
        "\n",
        "    print(\"\")"
      ],
      "metadata": {
        "id": "y3gPuI3blmyv",
        "colab": {
          "base_uri": "https://localhost:8080/"
        },
        "outputId": "013dc158-7ca1-42c7-f56b-7e132ba5879b"
      },
      "execution_count": 6,
      "outputs": [
        {
          "output_type": "stream",
          "name": "stdout",
          "text": [
            "Ingresa un número para la tabla de multiplicar (o 0 para salir): 0\n",
            "Programa terminado.\n"
          ]
        }
      ]
    },
    {
      "cell_type": "markdown",
      "source": [
        "**Ejercicio 4:**\n",
        "\n",
        "Contador de Vocales en una Frase (Bucle for)\n",
        "\n",
        "**Descripción:**\n",
        "\n",
        "Escribe un programa que cuente el número de vocales en una frase ingresada por el usuario.\n",
        "\n",
        "**Instrucciones:**\n",
        "\n",
        "Pide al usuario que ingrese una frase.\n",
        "\n",
        "Utiliza un bucle for para recorrer cada carácter de la frase.\n",
        "\n",
        "Cuenta cuántas veces aparecen las vocales (a, e, i, o, u) y muestra el\n",
        "\n",
        "resultado.\n"
      ],
      "metadata": {
        "id": "Yo3ma6uKlobt"
      }
    },
    {
      "cell_type": "code",
      "source": [
        "frase = input(\"Ingresa una frase: \")\n",
        "contador_vocales = 0\n",
        "\n",
        "vocales = \"aeiouAEIOU\"\n",
        "\n",
        "for caracter in frase:\n",
        "    if caracter in vocales:\n",
        "        contador_vocales += 1\n",
        "\n",
        "print(\"El número de vocales en la frase es:\", contador_vocales)"
      ],
      "metadata": {
        "id": "8_kakJr_mWwo"
      },
      "execution_count": null,
      "outputs": []
    }
  ]
}