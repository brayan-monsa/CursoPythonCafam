{
  "nbformat": 4,
  "nbformat_minor": 0,
  "metadata": {
    "colab": {
      "provenance": []
    },
    "kernelspec": {
      "name": "python3",
      "display_name": "Python 3"
    },
    "language_info": {
      "name": "python"
    }
  },
  "cells": [
    {
      "cell_type": "markdown",
      "source": [
        "![images.png](data:image/png;base64,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)\n",
        "\n",
        "\n",
        "**Taller 2**\n",
        "\n",
        "CURSO DE PYTHON\n",
        "\n",
        "DIRECCION DE EDUCACIÓN CONTINUA\n",
        "\n",
        "FUNDACION UNIVERSITARIA CAFAM\n",
        "\n",
        "DOCENTE: NICOLAS MOJICA GOMEZ\n",
        "\n",
        "ESTUDIANTE: **BRAYAN MONSALVE FONTALVO**\n"
      ],
      "metadata": {
        "id": "0dy3ppzQ2NzX"
      }
    },
    {
      "cell_type": "code",
      "source": [],
      "metadata": {
        "id": "X9FMUtZv2PIf"
      },
      "execution_count": null,
      "outputs": []
    },
    {
      "cell_type": "markdown",
      "source": [
        "## **Ejercicios de las Condicionales**"
      ],
      "metadata": {
        "id": "5h-gZF8ATcOB"
      }
    },
    {
      "cell_type": "markdown",
      "source": [
        "Crea un programa que verifique si una persona es mayor de edad. Una persona es considerada mayor de edad si tiene 18 años o más."
      ],
      "metadata": {
        "id": "r2ud9YTNTruo"
      }
    },
    {
      "cell_type": "code",
      "source": [
        "edad = int(input(\"ingresa tu edad: \"))\n",
        "if edad >= 18:\n",
        "  print(\"eres mayor de edad\")\n",
        "else:\n",
        "  print(\"eres menor de edad\")"
      ],
      "metadata": {
        "id": "D49eSrA1TXR4",
        "colab": {
          "base_uri": "https://localhost:8080/"
        },
        "outputId": "80e277b6-9c72-4aee-f5a2-ef7b5b2c62f7"
      },
      "execution_count": null,
      "outputs": [
        {
          "output_type": "stream",
          "name": "stdout",
          "text": [
            "ingresa tu edad: 17\n",
            "eres menor de edad\n"
          ]
        }
      ]
    },
    {
      "cell_type": "markdown",
      "source": [
        "Escribe un programa que verifique si un número ingresado por el usuario es par o impar."
      ],
      "metadata": {
        "id": "uJMW1D9CT3Xx"
      }
    },
    {
      "cell_type": "code",
      "source": [
        "numero = float(input(\"ingresa un numero: \"))\n",
        "\n",
        "if numero % 2 == 0:\n",
        "  print(\"el numero es par\")\n",
        "else:\n",
        "  print(\"el numero es impar\")\n",
        "\n"
      ],
      "metadata": {
        "id": "rqknvYQEUBwP",
        "colab": {
          "base_uri": "https://localhost:8080/"
        },
        "outputId": "b7d50a9c-aa22-4e3b-aec1-55eee6dfb3fe"
      },
      "execution_count": null,
      "outputs": [
        {
          "output_type": "stream",
          "name": "stdout",
          "text": [
            "ingresa un numero: 7\n",
            "el numero es impar\n"
          ]
        }
      ]
    },
    {
      "cell_type": "markdown",
      "source": [
        "Escribe un programa que clasifique la edad en diferentes categorías: Niño (0-12 años), Adolescente (13-17 años), Adulto (18-64 años) y Anciano (65 años o más)."
      ],
      "metadata": {
        "id": "N4oxHzZBTstC"
      }
    },
    {
      "cell_type": "code",
      "source": [
        "edad = int(input(\"ingrasa tu edad: \"))\n",
        "\n",
        "if edad >= 0 and edad <=12:\n",
        "  print(\"eres un niño\")\n",
        "elif edad >=13 and edad <=17:\n",
        "  print(\"eres adolescente\")\n",
        "elif edad >=18 and edad <=64:\n",
        "  print(\"eres adulto\")\n",
        "else:\n",
        "  print(\"eres anciano\")"
      ],
      "metadata": {
        "id": "YE0Xn8sRUIPt",
        "colab": {
          "base_uri": "https://localhost:8080/"
        },
        "outputId": "d240a850-c222-44c7-9a88-0c4f15bdcae4"
      },
      "execution_count": 11,
      "outputs": [
        {
          "output_type": "stream",
          "name": "stdout",
          "text": [
            "ingrasa tu edad: 69\n",
            "eres anciano\n"
          ]
        }
      ]
    },
    {
      "cell_type": "markdown",
      "source": [
        "Crea un programa que lea dos números y determine cuál es mayor, cuál es menor o si ambos son iguales.\n",
        "\n",
        "> Agregar bloque entrecomillado\n",
        "\n"
      ],
      "metadata": {
        "id": "cfuLA0k9UN3G"
      }
    },
    {
      "cell_type": "code",
      "source": [
        "numero_1 = float(input(\"Ingresa el primer número: \"))\n",
        "\n",
        "numero_2 = float(input(\"Ingresa el segundo número: \"))\n",
        "\n",
        "if numero_1 > numero_2:\n",
        "    print(f\"El número {numero_1} es mayor que {numero_2}\")\n",
        "elif numero_1 < numero_2:\n",
        "    print(f\"El número {numero_1} es menor que {numero_2}.\")\n",
        "else:\n",
        "    print(f\"Ambos números son iguales: {numero_1} y {numero_2}.\")\n"
      ],
      "metadata": {
        "id": "wRuhzid_UNZ0",
        "colab": {
          "base_uri": "https://localhost:8080/"
        },
        "outputId": "6fb2a2e5-7bc5-4c92-a204-95225b397411"
      },
      "execution_count": null,
      "outputs": [
        {
          "output_type": "stream",
          "name": "stdout",
          "text": [
            "Ingresa el primer número: 12\n",
            "Ingresa el segundo número: 34\n",
            "El número 12.0 es menor que 34.0.\n"
          ]
        }
      ]
    },
    {
      "cell_type": "markdown",
      "source": [
        "Escribe un programa que pida al usuario una contraseña y verifique si es correcta. La contraseña correcta es \"secreta123\"."
      ],
      "metadata": {
        "id": "2BkfeUqDUk2V"
      }
    },
    {
      "cell_type": "code",
      "source": [
        "contraseña = \"secreta123\"\n",
        "contraseña_ingresa = input(\"ingresa la contraseña: \")\n",
        "\n",
        "if contraseña == contraseña_ingresa:\n",
        "  print(\"contraseña correcta\")\n",
        "else:\n",
        "  print(\"contraseña incorrecta\")"
      ],
      "metadata": {
        "id": "FdGvhjEUUuo3",
        "colab": {
          "base_uri": "https://localhost:8080/"
        },
        "outputId": "f41f9502-f28f-416d-e2ae-5fbcd2070061"
      },
      "execution_count": null,
      "outputs": [
        {
          "output_type": "stream",
          "name": "stdout",
          "text": [
            "ingresa la contraseña: secreta123\n",
            "contraseña correcta\n"
          ]
        }
      ]
    },
    {
      "cell_type": "markdown",
      "source": [
        "\n",
        "\n",
        "```\n",
        "# Esto tiene formato de código\n",
        "```\n",
        "\n",
        "Crea un programa que determine si un número ingresado por el usuario está en el rango de 1 a 100 (inclusive) y si es divisible por 5."
      ],
      "metadata": {
        "id": "_F3T6QwCUwhX"
      }
    },
    {
      "cell_type": "code",
      "source": [
        "numero = int(input(\"Ingresa un número: \"))\n",
        "\n",
        "if 1 <= numero <= 100:\n",
        "    if numero % 5 == 0:\n",
        "        print(f\"El número {numero} está en el rango de 1 a 100 y es divisible por 5.\")\n",
        "    else:\n",
        "        print(f\"El número {numero} está en el rango de 1 a 100 pero no es divisible por 5.\")\n",
        "else:\n",
        "    print(f\"El número {numero} no está en el rango de 1 a 100.\")"
      ],
      "metadata": {
        "id": "PCsroYINU4Un",
        "colab": {
          "base_uri": "https://localhost:8080/"
        },
        "outputId": "38f3c771-5667-4ad5-a99e-630afb6b5450"
      },
      "execution_count": 14,
      "outputs": [
        {
          "output_type": "stream",
          "name": "stdout",
          "text": [
            "Ingresa un número: 93\n",
            "El número 93 está en el rango de 1 a 100 pero no es divisible por 5.\n"
          ]
        }
      ]
    },
    {
      "cell_type": "markdown",
      "source": [
        "# **Ejercicios de FUNCIONES**"
      ],
      "metadata": {
        "id": "DC46B-6Q4iw4"
      }
    },
    {
      "cell_type": "code",
      "source": [],
      "metadata": {
        "id": "qbt9k2Ld4kRd"
      },
      "execution_count": null,
      "outputs": []
    },
    {
      "cell_type": "markdown",
      "source": [
        "calculadora de prestamo"
      ],
      "metadata": {
        "id": "2L84-d6JehsJ"
      }
    },
    {
      "cell_type": "code",
      "source": [
        "def prestamo(edad, estado_civil):\n",
        "  if edad >= 29:\n",
        "    if estado_civil == \"soltero\":\n",
        "      return (\"credito aprobado\")\n",
        "  else:\n",
        "    return (\"no aprobado\")\n",
        "\n",
        "edad = int(input(\"ingresa edad: \"))\n",
        "estado_civil = input(\"ingresa estado civil:\")\n",
        "\n",
        "mensaje = prestamo(edad, estado_civil)\n",
        "print(mensaje)\n"
      ],
      "metadata": {
        "colab": {
          "base_uri": "https://localhost:8080/"
        },
        "id": "daPqsKujemUp",
        "outputId": "92444147-23f7-464b-b278-57830318fec3"
      },
      "execution_count": null,
      "outputs": [
        {
          "output_type": "stream",
          "name": "stdout",
          "text": [
            "ingresa edad: 12\n",
            "ingresa estado civil:soltero\n",
            "no aprobado\n"
          ]
        }
      ]
    },
    {
      "cell_type": "markdown",
      "source": [
        "Descripción: Escribe una función que reciba la edad de una persona como parámetro y determine si la persona es mayor de edad (18 años o más) o menor de edad."
      ],
      "metadata": {
        "id": "OuuvS5WNYxNB"
      }
    },
    {
      "cell_type": "code",
      "source": [
        "def mayor_de_edad(edad):\n",
        "  if edad >= 18:\n",
        "    return \"eres mayor de edad\"\n",
        "  else:\n",
        "    return \"eres menor de edad\"\n",
        "\n",
        "edad_persona = int(input(\"ingresa tu edad: \"))\n",
        "\n",
        "mensaje = mayor_de_edad(edad_persona)\n",
        "print(mensaje)"
      ],
      "metadata": {
        "colab": {
          "base_uri": "https://localhost:8080/"
        },
        "id": "pbOINNswY1dU",
        "outputId": "181197b5-e225-4389-db07-cf9acf9c9725"
      },
      "execution_count": null,
      "outputs": [
        {
          "output_type": "stream",
          "name": "stdout",
          "text": [
            "ingresa tu edad: 12\n",
            "eres menor de edad\n"
          ]
        }
      ]
    },
    {
      "cell_type": "markdown",
      "source": [
        "Descripción: Crea una función que reciba una nota (de 0 a 100) y clasifique la nota en \"Excelente\" (90-100), \"Bueno\" (70-89), \"Suficiente\" (50-69), o \"Insuficiente\" (menos de 50)."
      ],
      "metadata": {
        "id": "zqZPeceGY9OQ"
      }
    },
    {
      "cell_type": "code",
      "source": [
        "def nota_recibida(nota):\n",
        "  if nota >=90 and nota <= 100:\n",
        "    print(\"Tu nota es excelente\")\n",
        "  elif nota >= 70 and nota <=89:\n",
        "    print(\"Tu nota es de bueno\")\n",
        "  elif nota >= 50 and nota <= 69:\n",
        "    print(\"Tu nota es suficiente\")\n",
        "  else:\n",
        "    print(\"Tu nota es insuficiente\")\n",
        "\n",
        "nota_ingresada = int(input(\"Ingresa tu nota: \"))\n",
        "\n",
        "msj = nota_recibida(nota_ingresada)\n",
        "print(msj)"
      ],
      "metadata": {
        "id": "MnMHXB2pZD6Y",
        "colab": {
          "base_uri": "https://localhost:8080/"
        },
        "outputId": "c4d55c1b-38af-4c9a-bee3-b4762743b8d7"
      },
      "execution_count": 23,
      "outputs": [
        {
          "output_type": "stream",
          "name": "stdout",
          "text": [
            "Ingresa tu nota: 79\n",
            "Tu nota es de bueno\n",
            "None\n"
          ]
        }
      ]
    },
    {
      "cell_type": "markdown",
      "source": [
        "Descripción: Escribe una función que tome una contraseña y la verifique contra una contraseña predeterminada (\"secreta123\"). La función debe devolver si la contraseña es correcta o incorrecta."
      ],
      "metadata": {
        "id": "SssnepBSZEUb"
      }
    },
    {
      "cell_type": "code",
      "source": [
        "def passwords(contraseñ):\n",
        "  contraseña_predeterminada = \"secreta123\"\n",
        "  if contraseñ == contraseña_predeterminada:\n",
        "    print(\"contraseña correcta\")\n",
        "  else:\n",
        "    print(\"contraseña incorrecta\")\n",
        "\n",
        "ingrese_contraseña = input(\"Ingrese la contraseña: \")\n",
        "\n",
        "mensaje = passwords(ingrese_contraseña)\n",
        "print(mensaje)\n"
      ],
      "metadata": {
        "id": "h0exC877ZPmq",
        "colab": {
          "base_uri": "https://localhost:8080/"
        },
        "outputId": "3ccd5a2c-568d-4fa3-9912-913870247c76"
      },
      "execution_count": 21,
      "outputs": [
        {
          "output_type": "stream",
          "name": "stdout",
          "text": [
            "Ingrese la contraseña: secreta123\n",
            "contraseña correcta\n",
            "None\n"
          ]
        }
      ]
    }
  ]
}